{
 "cells": [
  {
   "cell_type": "markdown",
   "metadata": {
    "id": "nDetVnGnoHR-"
   },
   "source": [
    "# Obtain and Clean LODES Data\n",
    "\n",
    "> The LEHD Origin-Destination Employment Statistics (LODES) datasets are released both as\n",
    "part of the OnTheMap application and in raw form as a set of comma separated variable (CSV)\n",
    "text files. This document describes the structure of those raw files and provides basic information\n",
    "for users who want to perform analytical work on the data outside of the OnTheMap application.\" (U.S. Census, 2021)\n",
    "\n",
    "U.S. Census Bureau. (2021). LEHD Origin-Destination Employment Statistics Data (2002-2018) [computer file]. Washington, DC: U.S. Census Bureau, Longitudinal-Employer Household Dynamics Program [distributor], accessed on {CURRENT DATE} at https://lehd.ces.census.gov/data/#lodes. LODES 7.5 [version]\n",
    "\n",
    "The LODES Data provides emplyoment characterstics and origin-destination data\n",
    "    \n",
    "    1. Read in LODES data\n",
    "    2. Select Work Area Charactersitics in Study Area\n",
    "    3. Select Origin-Destination data in Study Area"
   ]
  },
  {
   "cell_type": "markdown",
   "metadata": {},
   "source": [
    "## Description of Program\n",
    "- program:    LODES_1av1_CleanLODESdata\n",
    "- task:       Obtain and read in LODES data\n",
    "- Version:    2021-08-14 - comparing 2015 and 2018 Rowland Elementary Jobists\n",
    "-             2021-08-18 - comparing improved 2014 and 2015 Rowland Elementary joblists\n",
    "- project:    Interdependent Networked Community Resilience Modeling Environment (IN-CORE) Subtask 5.2 - Social Institutions\n",
    "- funding:\t  NIST Financial Assistance Award Numbers: 70NANB15H044 and 70NANB20H008 \n",
    "- author:     Nathanael Rosenheim\n",
    "\n",
    "- Suggested Citation:\n",
    "Rosenheim, N. (2021) “Obtain, Clean, and LODES Jobs Data\". \n",
    "Archived on Github and ICPSR."
   ]
  },
  {
   "cell_type": "code",
   "execution_count": 1,
   "metadata": {
    "id": "ub0JUKWHoHSE"
   },
   "outputs": [],
   "source": [
    "%matplotlib inline\n",
    "\n",
    "import numpy as np\n",
    "import pandas as pd\n",
    "import os # For saving output to path"
   ]
  },
  {
   "cell_type": "code",
   "execution_count": 2,
   "metadata": {
    "id": "67UI6QhmoHSF",
    "outputId": "79dfbfb3-86a1-4756-dbde-f37a87ac3fe6"
   },
   "outputs": [
    {
     "name": "stdout",
     "output_type": "stream",
     "text": [
      "Python Version      3.7.10 | packaged by conda-forge | (default, Feb 19 2021, 15:37:01) [MSC v.1916 64 bit (AMD64)]\n",
      "numpy version:      1.21.1\n",
      "pandas version:     1.3.1\n"
     ]
    }
   ],
   "source": [
    "# Display versions being used - important information for replication\n",
    "import sys\n",
    "print(\"Python Version     \", sys.version)\n",
    "print(\"numpy version:     \", np.__version__)\n",
    "print(\"pandas version:    \", pd.__version__)"
   ]
  },
  {
   "cell_type": "code",
   "execution_count": 3,
   "metadata": {},
   "outputs": [],
   "source": [
    "# Store Program Name for output files to have the same name\n",
    "programname = \"LODES_3av1_ExploreLODESdata_2021-08-18\"\n",
    "# Make directory to save output\n",
    "if not os.path.exists(programname):\n",
    "    os.mkdir(programname)"
   ]
  },
  {
   "cell_type": "markdown",
   "metadata": {},
   "source": [
    "# Setup access to IN-CORE\n",
    "https://incore.ncsa.illinois.edu/"
   ]
  },
  {
   "cell_type": "code",
   "execution_count": 4,
   "metadata": {},
   "outputs": [],
   "source": [
    "#from pyincore import IncoreClient, Dataset, FragilityService, MappingSet, DataService\n",
    "#from pyincore_viz.geoutil import GeoUtil as viz"
   ]
  },
  {
   "cell_type": "markdown",
   "metadata": {},
   "source": [
    "### IN-CORE addons\n",
    "This program uses coded that is being developed as potential add ons to pyincore. These functions are in a folder called pyincore_addons - this folder is located in the same directory as this notebook.\n",
    "The add on functions are organized to mirror the folder sturcture of https://github.com/IN-CORE/pyincore\n",
    "\n",
    "Each add on function attempts to follow the structure of existing pyincore functions and includes some help information."
   ]
  },
  {
   "cell_type": "code",
   "execution_count": 5,
   "metadata": {},
   "outputs": [
    {
     "name": "stdout",
     "output_type": "stream",
     "text": [
      "[('fix_char_vars', <function fix_char_vars at 0x000001B1A0288D38>), ('full_lodes_loop', <function full_lodes_loop at 0x000001B19FC09948>), ('get_homeblocklist', <function get_homeblocklist at 0x000001B1A0288948>), ('import_lodes', <function import_lodes at 0x000001B1A0288A68>), ('keep_nonzeros', <function keep_nonzeros at 0x000001B1A0288EE8>), ('new_jobtypes', <function new_jobtypes at 0x000001B1A0288CA8>), ('stack_jobset', <function stack_jobset at 0x000001B1A0288E58>)]\n",
      "[('add_missingeducation', <function add_missingeducation at 0x000001B1A028A048>), ('add_random_number', <function add_random_number at 0x000001B1A028A948>), ('calculate_combined_fitness', <function calculate_combined_fitness at 0x000001B1A028E1F8>), ('calculate_total_fitness', <function calculate_total_fitness at 0x000001B1A028E288>), ('get_single_characteristic_fitness', <function get_single_characteristic_fitness at 0x000001B1A028E168>), ('markov_chain_monte_carlo_simanneal', <function markov_chain_monte_carlo_simanneal at 0x000001B1A028E318>), ('rand_select_jobs', <function rand_select_jobs at 0x000001B1A028E0D8>), ('subtract_df', <function subtract_df at 0x000001B1A0288AF8>)]\n"
     ]
    }
   ],
   "source": [
    "# To reload submodules need to use this magic command to set autoreload on\n",
    "%load_ext autoreload\n",
    "%autoreload 2\n",
    "# open, read, and execute python program with reusable commands\n",
    "# function that loops through lodes data structure\n",
    "import pyincoredata_addons.lodes_fullloop_20210815 as lodes\n",
    "import pyincoredata_addons.lodes_mcmcsa_util_20210816 as mcmc\n",
    "\n",
    "# since the geoutil is under construction it might need to be reloaded\n",
    "from importlib import reload \n",
    "#lodes = reload(lodes) # with auto reload on this command is not needed\n",
    "\n",
    "# Print list of add on functions\n",
    "from inspect import getmembers, isfunction\n",
    "print(getmembers(lodes,isfunction))\n",
    "print(getmembers(mcmc,isfunction))"
   ]
  },
  {
   "cell_type": "markdown",
   "metadata": {},
   "source": [
    "## Read In Cleaned LODES data"
   ]
  },
  {
   "cell_type": "code",
   "execution_count": 6,
   "metadata": {
    "id": "jSI_YU4foHSG"
   },
   "outputs": [],
   "source": [
    "# Program used to clean LODES data joblist\n",
    "sourceprogram1 =  \"LODES_1av1_CleanLODESdata_2021-08-18\"\n",
    "sourceprogram2 =  \"LODES_1av1_CleanLODESdata_2021-08-16\"\n",
    "# Make directory to save output\n",
    "df = {} # Create dictionary to store data frames\n",
    "\n",
    "\n",
    "filepath = sourceprogram1+\"/\"+sourceprogram1+\"2014.csv\"\n",
    "df['2014'] = pd.read_csv(filepath)\n",
    "\n",
    "filepath = sourceprogram2+\"/\"+sourceprogram2+\"2015.csv\"\n",
    "df['2015'] = pd.read_csv(filepath)"
   ]
  },
  {
   "cell_type": "code",
   "execution_count": 7,
   "metadata": {},
   "outputs": [
    {
     "data": {
      "text/html": [
       "<div>\n",
       "<style scoped>\n",
       "    .dataframe tbody tr th:only-of-type {\n",
       "        vertical-align: middle;\n",
       "    }\n",
       "\n",
       "    .dataframe tbody tr th {\n",
       "        vertical-align: top;\n",
       "    }\n",
       "\n",
       "    .dataframe thead th {\n",
       "        text-align: right;\n",
       "    }\n",
       "</style>\n",
       "<table border=\"1\" class=\"dataframe\">\n",
       "  <thead>\n",
       "    <tr style=\"text-align: right;\">\n",
       "      <th></th>\n",
       "      <th>w_geocode</th>\n",
       "      <th>h_geocode</th>\n",
       "      <th>jobidac</th>\n",
       "      <th>year</th>\n",
       "    </tr>\n",
       "  </thead>\n",
       "  <tbody>\n",
       "    <tr>\n",
       "      <th>0</th>\n",
       "      <td>371559612002006</td>\n",
       "      <td>212231002003022</td>\n",
       "      <td>jidodJT07133jobidac011532</td>\n",
       "      <td>2015</td>\n",
       "    </tr>\n",
       "    <tr>\n",
       "      <th>1</th>\n",
       "      <td>371559612002006</td>\n",
       "      <td>370179503001059</td>\n",
       "      <td>jidodJT07213jobidac211512</td>\n",
       "      <td>2015</td>\n",
       "    </tr>\n",
       "    <tr>\n",
       "      <th>2</th>\n",
       "      <td>371559612002006</td>\n",
       "      <td>370190203042017</td>\n",
       "      <td>jidodJT07223jobidac311532</td>\n",
       "      <td>2015</td>\n",
       "    </tr>\n",
       "    <tr>\n",
       "      <th>3</th>\n",
       "      <td>371559612002006</td>\n",
       "      <td>370479302001019</td>\n",
       "      <td>jidodJT07333jobidac411532</td>\n",
       "      <td>2015</td>\n",
       "    </tr>\n",
       "    <tr>\n",
       "      <th>4</th>\n",
       "      <td>371559612002006</td>\n",
       "      <td>370479306003057</td>\n",
       "      <td>jidodJT07323jobidac211512</td>\n",
       "      <td>2015</td>\n",
       "    </tr>\n",
       "  </tbody>\n",
       "</table>\n",
       "</div>"
      ],
      "text/plain": [
       "         w_geocode        h_geocode                    jobidac  year\n",
       "0  371559612002006  212231002003022  jidodJT07133jobidac011532  2015\n",
       "1  371559612002006  370179503001059  jidodJT07213jobidac211512  2015\n",
       "2  371559612002006  370190203042017  jidodJT07223jobidac311532  2015\n",
       "3  371559612002006  370479302001019  jidodJT07333jobidac411532  2015\n",
       "4  371559612002006  370479306003057  jidodJT07323jobidac211512  2015"
      ]
     },
     "execution_count": 7,
     "metadata": {},
     "output_type": "execute_result"
    }
   ],
   "source": [
    "df['2015'][['w_geocode','h_geocode','jobidac','year']].head()"
   ]
  },
  {
   "cell_type": "code",
   "execution_count": 8,
   "metadata": {},
   "outputs": [
    {
     "data": {
      "text/html": [
       "<div>\n",
       "<style scoped>\n",
       "    .dataframe tbody tr th:only-of-type {\n",
       "        vertical-align: middle;\n",
       "    }\n",
       "\n",
       "    .dataframe tbody tr th {\n",
       "        vertical-align: top;\n",
       "    }\n",
       "\n",
       "    .dataframe thead th {\n",
       "        text-align: right;\n",
       "    }\n",
       "</style>\n",
       "<table border=\"1\" class=\"dataframe\">\n",
       "  <thead>\n",
       "    <tr style=\"text-align: right;\">\n",
       "      <th></th>\n",
       "      <th>w_geocode</th>\n",
       "      <th>h_geocode</th>\n",
       "      <th>jobidac</th>\n",
       "      <th>year</th>\n",
       "    </tr>\n",
       "  </thead>\n",
       "  <tbody>\n",
       "    <tr>\n",
       "      <th>0</th>\n",
       "      <td>371559612002006</td>\n",
       "      <td>80140302001057</td>\n",
       "      <td>jidodJT07313jobidac311521</td>\n",
       "      <td>2014</td>\n",
       "    </tr>\n",
       "    <tr>\n",
       "      <th>1</th>\n",
       "      <td>371559612002006</td>\n",
       "      <td>80590104024033</td>\n",
       "      <td>jidodJT07233jobidac311512</td>\n",
       "      <td>2014</td>\n",
       "    </tr>\n",
       "    <tr>\n",
       "      <th>2</th>\n",
       "      <td>371559612002006</td>\n",
       "      <td>370179501003034</td>\n",
       "      <td>jidodJT07333jobidac411511</td>\n",
       "      <td>2014</td>\n",
       "    </tr>\n",
       "    <tr>\n",
       "      <th>3</th>\n",
       "      <td>371559612002006</td>\n",
       "      <td>370179503004045</td>\n",
       "      <td>jidodJT07233jobidac211522</td>\n",
       "      <td>2014</td>\n",
       "    </tr>\n",
       "    <tr>\n",
       "      <th>4</th>\n",
       "      <td>371559612002006</td>\n",
       "      <td>370179503005006</td>\n",
       "      <td>jidodJT07223jobidac211512</td>\n",
       "      <td>2014</td>\n",
       "    </tr>\n",
       "  </tbody>\n",
       "</table>\n",
       "</div>"
      ],
      "text/plain": [
       "         w_geocode        h_geocode                    jobidac  year\n",
       "0  371559612002006   80140302001057  jidodJT07313jobidac311521  2014\n",
       "1  371559612002006   80590104024033  jidodJT07233jobidac311512  2014\n",
       "2  371559612002006  370179501003034  jidodJT07333jobidac411511  2014\n",
       "3  371559612002006  370179503004045  jidodJT07233jobidac211522  2014\n",
       "4  371559612002006  370179503005006  jidodJT07223jobidac211512  2014"
      ]
     },
     "execution_count": 8,
     "metadata": {},
     "output_type": "execute_result"
    }
   ],
   "source": [
    "df['2014'][['w_geocode','h_geocode','jobidac','year']].head()"
   ]
  },
  {
   "cell_type": "markdown",
   "metadata": {},
   "source": [
    "### Plan to compare different years\n",
    "The different years should have similar characteristics by count, race, ethnicity, and sex. Other charactersitics should be similar like education, age, and earnings - but these three might actually increase by 1 increment.\n",
    "Industry and super sector should also be constant.\n",
    "\n",
    "The h_geocodes should be compared by Census Tracts - for most observations. Long distance commutes (greater than 30-40 miles) should be compared by PUMAs. Really long distance pairs should be compared by SuperPUMAs (500+ miles between home and work. The PUMA and SuperPUMA designations would need to be merged in manually. I have code for PUMA merge - but I have never scene the actually mapping between PUMAs and Super PUMAs. Also - need to double check the citation for PUMA nad SuperPUMA coarsening. For now I might just use counties and state level data for longer distance commutes."
   ]
  },
  {
   "cell_type": "markdown",
   "metadata": {},
   "source": [
    "#### compare based on jobidac only"
   ]
  },
  {
   "cell_type": "code",
   "execution_count": 9,
   "metadata": {},
   "outputs": [
    {
     "data": {
      "text/plain": [
       "'2014'"
      ]
     },
     "execution_count": 9,
     "metadata": {},
     "output_type": "execute_result"
    }
   ],
   "source": [
    "years = ['2014','2015']\n",
    "years[0]"
   ]
  },
  {
   "cell_type": "code",
   "execution_count": 10,
   "metadata": {},
   "outputs": [],
   "source": [
    "jobidac_list = {}\n",
    "for year in years:\n",
    "    jobidac_list[year] = pd.pivot_table(df[year], index = 'jobidac', values = 'h_geocode', aggfunc='count')\n",
    "    jobidac_list[year] .reset_index(inplace = True)\n",
    "    jobidac_list[year] =  jobidac_list[year].rename(columns = {'h_geocode' : year})\n",
    "\n",
    "compare_jobidac_list = pd.merge(left = jobidac_list[years[0]],\n",
    "                                right = jobidac_list[years[1]],\n",
    "                                on = 'jobidac',\n",
    "                                how = 'outer')\n",
    "compare_jobidac_list = compare_jobidac_list.fillna(value = 0)\n",
    "compare_jobidac_list.loc[:,'match'] = 0\n",
    "compare_jobidac_list.loc[(compare_jobidac_list[years[0]] <= compare_jobidac_list[years[1]]),'match'] = compare_jobidac_list[years[0]] \n",
    "compare_jobidac_list.loc[(compare_jobidac_list[years[1]] <= compare_jobidac_list[years[0]]),'match'] = compare_jobidac_list[years[1]] \n"
   ]
  },
  {
   "cell_type": "code",
   "execution_count": 11,
   "metadata": {},
   "outputs": [
    {
     "data": {
      "text/html": [
       "<div>\n",
       "<style scoped>\n",
       "    .dataframe tbody tr th:only-of-type {\n",
       "        vertical-align: middle;\n",
       "    }\n",
       "\n",
       "    .dataframe tbody tr th {\n",
       "        vertical-align: top;\n",
       "    }\n",
       "\n",
       "    .dataframe thead th {\n",
       "        text-align: right;\n",
       "    }\n",
       "</style>\n",
       "<table border=\"1\" class=\"dataframe\">\n",
       "  <thead>\n",
       "    <tr style=\"text-align: right;\">\n",
       "      <th></th>\n",
       "      <th>jobidac</th>\n",
       "      <th>2014</th>\n",
       "      <th>2015</th>\n",
       "      <th>match</th>\n",
       "    </tr>\n",
       "  </thead>\n",
       "  <tbody>\n",
       "    <tr>\n",
       "      <th>0</th>\n",
       "      <td>jidodJT07113jobidac011532</td>\n",
       "      <td>1.0</td>\n",
       "      <td>1.0</td>\n",
       "      <td>1.0</td>\n",
       "    </tr>\n",
       "    <tr>\n",
       "      <th>1</th>\n",
       "      <td>jidodJT07123jobidac011511</td>\n",
       "      <td>1.0</td>\n",
       "      <td>1.0</td>\n",
       "      <td>1.0</td>\n",
       "    </tr>\n",
       "    <tr>\n",
       "      <th>2</th>\n",
       "      <td>jidodJT07123jobidac011512</td>\n",
       "      <td>1.0</td>\n",
       "      <td>1.0</td>\n",
       "      <td>1.0</td>\n",
       "    </tr>\n",
       "    <tr>\n",
       "      <th>3</th>\n",
       "      <td>jidodJT07123jobidac011522</td>\n",
       "      <td>2.0</td>\n",
       "      <td>0.0</td>\n",
       "      <td>0.0</td>\n",
       "    </tr>\n",
       "    <tr>\n",
       "      <th>4</th>\n",
       "      <td>jidodJT07123jobidac011532</td>\n",
       "      <td>1.0</td>\n",
       "      <td>1.0</td>\n",
       "      <td>1.0</td>\n",
       "    </tr>\n",
       "    <tr>\n",
       "      <th>...</th>\n",
       "      <td>...</td>\n",
       "      <td>...</td>\n",
       "      <td>...</td>\n",
       "      <td>...</td>\n",
       "    </tr>\n",
       "    <tr>\n",
       "      <th>82</th>\n",
       "      <td>jidodJT07333jobidac411531</td>\n",
       "      <td>0.0</td>\n",
       "      <td>1.0</td>\n",
       "      <td>0.0</td>\n",
       "    </tr>\n",
       "    <tr>\n",
       "      <th>83</th>\n",
       "      <td>jidodJT07333jobidac411532</td>\n",
       "      <td>0.0</td>\n",
       "      <td>1.0</td>\n",
       "      <td>0.0</td>\n",
       "    </tr>\n",
       "    <tr>\n",
       "      <th>84</th>\n",
       "      <td>jidodJT11113jobidac011532</td>\n",
       "      <td>0.0</td>\n",
       "      <td>1.0</td>\n",
       "      <td>0.0</td>\n",
       "    </tr>\n",
       "    <tr>\n",
       "      <th>58</th>\n",
       "      <td>jidodJT11213jobidac211521</td>\n",
       "      <td>1.0</td>\n",
       "      <td>0.0</td>\n",
       "      <td>0.0</td>\n",
       "    </tr>\n",
       "    <tr>\n",
       "      <th>85</th>\n",
       "      <td>jidodJT11213jobidac411522</td>\n",
       "      <td>0.0</td>\n",
       "      <td>1.0</td>\n",
       "      <td>0.0</td>\n",
       "    </tr>\n",
       "  </tbody>\n",
       "</table>\n",
       "<p>86 rows × 4 columns</p>\n",
       "</div>"
      ],
      "text/plain": [
       "                      jobidac  2014  2015  match\n",
       "0   jidodJT07113jobidac011532   1.0   1.0    1.0\n",
       "1   jidodJT07123jobidac011511   1.0   1.0    1.0\n",
       "2   jidodJT07123jobidac011512   1.0   1.0    1.0\n",
       "3   jidodJT07123jobidac011522   2.0   0.0    0.0\n",
       "4   jidodJT07123jobidac011532   1.0   1.0    1.0\n",
       "..                        ...   ...   ...    ...\n",
       "82  jidodJT07333jobidac411531   0.0   1.0    0.0\n",
       "83  jidodJT07333jobidac411532   0.0   1.0    0.0\n",
       "84  jidodJT11113jobidac011532   0.0   1.0    0.0\n",
       "58  jidodJT11213jobidac211521   1.0   0.0    0.0\n",
       "85  jidodJT11213jobidac411522   0.0   1.0    0.0\n",
       "\n",
       "[86 rows x 4 columns]"
      ]
     },
     "execution_count": 11,
     "metadata": {},
     "output_type": "execute_result"
    }
   ],
   "source": [
    "compare_jobidac_list.sort_values(by = 'jobidac')"
   ]
  },
  {
   "cell_type": "code",
   "execution_count": 12,
   "metadata": {},
   "outputs": [
    {
     "data": {
      "text/html": [
       "<div>\n",
       "<style scoped>\n",
       "    .dataframe tbody tr th:only-of-type {\n",
       "        vertical-align: middle;\n",
       "    }\n",
       "\n",
       "    .dataframe tbody tr th {\n",
       "        vertical-align: top;\n",
       "    }\n",
       "\n",
       "    .dataframe thead th {\n",
       "        text-align: right;\n",
       "    }\n",
       "</style>\n",
       "<table border=\"1\" class=\"dataframe\">\n",
       "  <thead>\n",
       "    <tr style=\"text-align: right;\">\n",
       "      <th></th>\n",
       "      <th>jobidac</th>\n",
       "      <th>2014</th>\n",
       "      <th>2015</th>\n",
       "      <th>match</th>\n",
       "    </tr>\n",
       "  </thead>\n",
       "  <tbody>\n",
       "    <tr>\n",
       "      <th>0</th>\n",
       "      <td>jidodJT07113jobidac011532</td>\n",
       "      <td>1.0</td>\n",
       "      <td>1.0</td>\n",
       "      <td>1.0</td>\n",
       "    </tr>\n",
       "    <tr>\n",
       "      <th>1</th>\n",
       "      <td>jidodJT07123jobidac011511</td>\n",
       "      <td>1.0</td>\n",
       "      <td>1.0</td>\n",
       "      <td>1.0</td>\n",
       "    </tr>\n",
       "    <tr>\n",
       "      <th>2</th>\n",
       "      <td>jidodJT07123jobidac011512</td>\n",
       "      <td>1.0</td>\n",
       "      <td>1.0</td>\n",
       "      <td>1.0</td>\n",
       "    </tr>\n",
       "    <tr>\n",
       "      <th>4</th>\n",
       "      <td>jidodJT07123jobidac011532</td>\n",
       "      <td>1.0</td>\n",
       "      <td>1.0</td>\n",
       "      <td>1.0</td>\n",
       "    </tr>\n",
       "    <tr>\n",
       "      <th>10</th>\n",
       "      <td>jidodJT07223jobidac111512</td>\n",
       "      <td>1.0</td>\n",
       "      <td>1.0</td>\n",
       "      <td>1.0</td>\n",
       "    </tr>\n",
       "    <tr>\n",
       "      <th>11</th>\n",
       "      <td>jidodJT07223jobidac111522</td>\n",
       "      <td>1.0</td>\n",
       "      <td>1.0</td>\n",
       "      <td>1.0</td>\n",
       "    </tr>\n",
       "    <tr>\n",
       "      <th>12</th>\n",
       "      <td>jidodJT07223jobidac111532</td>\n",
       "      <td>1.0</td>\n",
       "      <td>3.0</td>\n",
       "      <td>1.0</td>\n",
       "    </tr>\n",
       "    <tr>\n",
       "      <th>16</th>\n",
       "      <td>jidodJT07223jobidac211532</td>\n",
       "      <td>1.0</td>\n",
       "      <td>3.0</td>\n",
       "      <td>1.0</td>\n",
       "    </tr>\n",
       "    <tr>\n",
       "      <th>18</th>\n",
       "      <td>jidodJT07223jobidac311512</td>\n",
       "      <td>1.0</td>\n",
       "      <td>1.0</td>\n",
       "      <td>1.0</td>\n",
       "    </tr>\n",
       "    <tr>\n",
       "      <th>20</th>\n",
       "      <td>jidodJT07223jobidac311522</td>\n",
       "      <td>2.0</td>\n",
       "      <td>1.0</td>\n",
       "      <td>1.0</td>\n",
       "    </tr>\n",
       "    <tr>\n",
       "      <th>22</th>\n",
       "      <td>jidodJT07223jobidac311532</td>\n",
       "      <td>2.0</td>\n",
       "      <td>3.0</td>\n",
       "      <td>2.0</td>\n",
       "    </tr>\n",
       "    <tr>\n",
       "      <th>25</th>\n",
       "      <td>jidodJT07223jobidac411522</td>\n",
       "      <td>1.0</td>\n",
       "      <td>2.0</td>\n",
       "      <td>1.0</td>\n",
       "    </tr>\n",
       "    <tr>\n",
       "      <th>28</th>\n",
       "      <td>jidodJT07233jobidac211522</td>\n",
       "      <td>1.0</td>\n",
       "      <td>2.0</td>\n",
       "      <td>1.0</td>\n",
       "    </tr>\n",
       "    <tr>\n",
       "      <th>29</th>\n",
       "      <td>jidodJT07233jobidac211532</td>\n",
       "      <td>3.0</td>\n",
       "      <td>1.0</td>\n",
       "      <td>1.0</td>\n",
       "    </tr>\n",
       "    <tr>\n",
       "      <th>30</th>\n",
       "      <td>jidodJT07233jobidac311512</td>\n",
       "      <td>3.0</td>\n",
       "      <td>4.0</td>\n",
       "      <td>3.0</td>\n",
       "    </tr>\n",
       "    <tr>\n",
       "      <th>31</th>\n",
       "      <td>jidodJT07233jobidac311532</td>\n",
       "      <td>2.0</td>\n",
       "      <td>4.0</td>\n",
       "      <td>2.0</td>\n",
       "    </tr>\n",
       "    <tr>\n",
       "      <th>32</th>\n",
       "      <td>jidodJT07233jobidac411511</td>\n",
       "      <td>1.0</td>\n",
       "      <td>1.0</td>\n",
       "      <td>1.0</td>\n",
       "    </tr>\n",
       "    <tr>\n",
       "      <th>33</th>\n",
       "      <td>jidodJT07233jobidac411512</td>\n",
       "      <td>3.0</td>\n",
       "      <td>2.0</td>\n",
       "      <td>2.0</td>\n",
       "    </tr>\n",
       "    <tr>\n",
       "      <th>36</th>\n",
       "      <td>jidodJT07313jobidac211521</td>\n",
       "      <td>2.0</td>\n",
       "      <td>1.0</td>\n",
       "      <td>1.0</td>\n",
       "    </tr>\n",
       "    <tr>\n",
       "      <th>37</th>\n",
       "      <td>jidodJT07313jobidac211522</td>\n",
       "      <td>1.0</td>\n",
       "      <td>1.0</td>\n",
       "      <td>1.0</td>\n",
       "    </tr>\n",
       "    <tr>\n",
       "      <th>40</th>\n",
       "      <td>jidodJT07313jobidac311532</td>\n",
       "      <td>1.0</td>\n",
       "      <td>1.0</td>\n",
       "      <td>1.0</td>\n",
       "    </tr>\n",
       "    <tr>\n",
       "      <th>42</th>\n",
       "      <td>jidodJT07313jobidac411522</td>\n",
       "      <td>1.0</td>\n",
       "      <td>1.0</td>\n",
       "      <td>1.0</td>\n",
       "    </tr>\n",
       "    <tr>\n",
       "      <th>47</th>\n",
       "      <td>jidodJT07323jobidac211512</td>\n",
       "      <td>2.0</td>\n",
       "      <td>1.0</td>\n",
       "      <td>1.0</td>\n",
       "    </tr>\n",
       "    <tr>\n",
       "      <th>50</th>\n",
       "      <td>jidodJT07323jobidac311522</td>\n",
       "      <td>3.0</td>\n",
       "      <td>2.0</td>\n",
       "      <td>2.0</td>\n",
       "    </tr>\n",
       "    <tr>\n",
       "      <th>54</th>\n",
       "      <td>jidodJT07333jobidac211532</td>\n",
       "      <td>1.0</td>\n",
       "      <td>1.0</td>\n",
       "      <td>1.0</td>\n",
       "    </tr>\n",
       "    <tr>\n",
       "      <th>55</th>\n",
       "      <td>jidodJT07333jobidac411511</td>\n",
       "      <td>3.0</td>\n",
       "      <td>1.0</td>\n",
       "      <td>1.0</td>\n",
       "    </tr>\n",
       "    <tr>\n",
       "      <th>56</th>\n",
       "      <td>jidodJT07333jobidac411512</td>\n",
       "      <td>1.0</td>\n",
       "      <td>1.0</td>\n",
       "      <td>1.0</td>\n",
       "    </tr>\n",
       "  </tbody>\n",
       "</table>\n",
       "</div>"
      ],
      "text/plain": [
       "                      jobidac  2014  2015  match\n",
       "0   jidodJT07113jobidac011532   1.0   1.0    1.0\n",
       "1   jidodJT07123jobidac011511   1.0   1.0    1.0\n",
       "2   jidodJT07123jobidac011512   1.0   1.0    1.0\n",
       "4   jidodJT07123jobidac011532   1.0   1.0    1.0\n",
       "10  jidodJT07223jobidac111512   1.0   1.0    1.0\n",
       "11  jidodJT07223jobidac111522   1.0   1.0    1.0\n",
       "12  jidodJT07223jobidac111532   1.0   3.0    1.0\n",
       "16  jidodJT07223jobidac211532   1.0   3.0    1.0\n",
       "18  jidodJT07223jobidac311512   1.0   1.0    1.0\n",
       "20  jidodJT07223jobidac311522   2.0   1.0    1.0\n",
       "22  jidodJT07223jobidac311532   2.0   3.0    2.0\n",
       "25  jidodJT07223jobidac411522   1.0   2.0    1.0\n",
       "28  jidodJT07233jobidac211522   1.0   2.0    1.0\n",
       "29  jidodJT07233jobidac211532   3.0   1.0    1.0\n",
       "30  jidodJT07233jobidac311512   3.0   4.0    3.0\n",
       "31  jidodJT07233jobidac311532   2.0   4.0    2.0\n",
       "32  jidodJT07233jobidac411511   1.0   1.0    1.0\n",
       "33  jidodJT07233jobidac411512   3.0   2.0    2.0\n",
       "36  jidodJT07313jobidac211521   2.0   1.0    1.0\n",
       "37  jidodJT07313jobidac211522   1.0   1.0    1.0\n",
       "40  jidodJT07313jobidac311532   1.0   1.0    1.0\n",
       "42  jidodJT07313jobidac411522   1.0   1.0    1.0\n",
       "47  jidodJT07323jobidac211512   2.0   1.0    1.0\n",
       "50  jidodJT07323jobidac311522   3.0   2.0    2.0\n",
       "54  jidodJT07333jobidac211532   1.0   1.0    1.0\n",
       "55  jidodJT07333jobidac411511   3.0   1.0    1.0\n",
       "56  jidodJT07333jobidac411512   1.0   1.0    1.0"
      ]
     },
     "execution_count": 12,
     "metadata": {},
     "output_type": "execute_result"
    }
   ],
   "source": [
    "compare_jobidac_list.loc[(compare_jobidac_list[years[0]] != 0) &\n",
    "                         (compare_jobidac_list[years[1]] != 0)] "
   ]
  },
  {
   "cell_type": "code",
   "execution_count": 13,
   "metadata": {},
   "outputs": [
    {
     "name": "stdout",
     "output_type": "stream",
     "text": [
      "Total jobs in year1  82.0\n",
      "Total jobs in year2  74.0\n",
      "Match on all characteristics  33.0\n",
      "Match on all characteristics  40 %\n"
     ]
    }
   ],
   "source": [
    "total_jobyear1 = np.sum(compare_jobidac_list[years[0]])\n",
    "total_jobyear2 = np.sum(compare_jobidac_list[years[1]])\n",
    "match = np.sum(compare_jobidac_list['match'])\n",
    "print('Total jobs in year1 ',total_jobyear1)\n",
    "print('Total jobs in year2 ',total_jobyear2)\n",
    "print('Match on all characteristics ', match)\n",
    "print('Match on all characteristics ', int(match/total_jobyear1*100), '%')"
   ]
  },
  {
   "cell_type": "markdown",
   "metadata": {},
   "source": [
    "### Match on Jobidac and Tract"
   ]
  },
  {
   "cell_type": "code",
   "execution_count": 14,
   "metadata": {},
   "outputs": [],
   "source": [
    "def compare_joblist_years(df,years, index_vars, value_var):\n",
    "    pivot_df = {}\n",
    "    \n",
    "    for year in years:\n",
    "        pivot_df[year] = pd.pivot_table(df[year], index = index_vars, values = value_var, aggfunc='count')\n",
    "        pivot_df[year] .reset_index(inplace = True)\n",
    "        pivot_df[year] =  pivot_df[year].rename(columns = {value_var : year})\n",
    "\n",
    "    # merge all years together\n",
    "    compare_list = pivot_df[years[0]]\n",
    "    for i in range(len(years) -1):\n",
    "        compare_list = pd.merge(left = compare_list,\n",
    "                                right = pivot_df[years[i+1]],\n",
    "                                on = index_vars,\n",
    "                                how = 'outer')\n",
    "    compare_list = compare_list.fillna(value = 0)\n",
    "    \n",
    "    # How many jobs match\n",
    "    compare_list.loc[:,'match'] = 0\n",
    "    for i in range(len(years) -1):\n",
    "        compare_list.loc[(compare_list[years[i]] <= compare_list[years[i+1]]),'match'] = compare_list[years[i]] \n",
    "        compare_list.loc[(compare_list[years[i+1]] <= compare_list[years[i]]),'match'] = compare_list[years[i+1]] \n",
    "    \n",
    "    mintotaljobs = 0\n",
    "    for year in years:\n",
    "        totaljobs = np.sum(compare_list[year])\n",
    "        print('Total jobs in',year,totaljobs)\n",
    "        if  mintotaljobs == 0:\n",
    "            mintotaljobs = totaljobs\n",
    "        elif mintotaljobs > totaljobs:\n",
    "            mintotaljobs = totaljobs\n",
    "\n",
    "    match = np.sum(compare_list['match'])\n",
    "    print('Match on ',index_vars, match)\n",
    "    print('Match Percent = ', int(match/mintotaljobs*100), '%')\n",
    "    \n",
    "    return match, compare_list"
   ]
  },
  {
   "cell_type": "code",
   "execution_count": 15,
   "metadata": {},
   "outputs": [],
   "source": [
    "def add_tractid(df,geocodevar):\n",
    "    \n",
    "    df[geocodevar+'_str'] = df[geocodevar].apply(lambda x : str(int(x)).zfill(15))\n",
    "    df[geocodevar+'_tractid'] = df[geocodevar+'_str'].str[0:11]\n",
    "    \n",
    "    return df\n",
    "\n",
    "def add_countyid(df,geocodevar):\n",
    "    \n",
    "    df[geocodevar+'_str'] = df[geocodevar].apply(lambda x : str(int(x)).zfill(15))\n",
    "    df[geocodevar+'_countyid'] = df[geocodevar+'_str'].str[0:5]\n",
    "    \n",
    "    return df"
   ]
  },
  {
   "cell_type": "code",
   "execution_count": 16,
   "metadata": {},
   "outputs": [
    {
     "name": "stdout",
     "output_type": "stream",
     "text": [
      "Total jobs in 2014 82.0\n",
      "Total jobs in 2015 74.0\n",
      "Match on  jobidac 33.0\n",
      "Match Percent =  44 %\n"
     ]
    }
   ],
   "source": [
    "match, comparelist = compare_joblist_years(df,years, 'jobidac', 'h_geocode')"
   ]
  },
  {
   "cell_type": "code",
   "execution_count": 17,
   "metadata": {},
   "outputs": [],
   "source": [
    "for year in years:\n",
    "    df[year] = add_tractid(df[year], 'h_geocode')\n",
    "    df[year] = add_countyid(df[year], 'h_geocode')"
   ]
  },
  {
   "cell_type": "code",
   "execution_count": 18,
   "metadata": {},
   "outputs": [
    {
     "name": "stdout",
     "output_type": "stream",
     "text": [
      "Total jobs in 2014 82.0\n",
      "Total jobs in 2015 74.0\n",
      "Match on  ['jobidac', 'h_geocode_tractid'] 1.0\n",
      "Match Percent =  1 %\n"
     ]
    }
   ],
   "source": [
    "match, comparelist = compare_joblist_years(df,years, index_vars = ['jobidac','h_geocode_tractid'], value_var =  'h_geocode')"
   ]
  },
  {
   "cell_type": "code",
   "execution_count": 19,
   "metadata": {},
   "outputs": [
    {
     "name": "stdout",
     "output_type": "stream",
     "text": [
      "Total jobs in 2014 82.0\n",
      "Total jobs in 2015 74.0\n",
      "Match on  ['jobidac', 'h_geocode_countyid'] 19.0\n",
      "Match Percent =  25 %\n"
     ]
    }
   ],
   "source": [
    "match, comparelist = compare_joblist_years(df,years, index_vars = ['jobidac','h_geocode_countyid'], value_var =  'h_geocode')"
   ]
  },
  {
   "cell_type": "code",
   "execution_count": 20,
   "metadata": {},
   "outputs": [
    {
     "name": "stdout",
     "output_type": "stream",
     "text": [
      "Total jobs in 2014 82\n",
      "Total jobs in 2015 74.0\n",
      "Match on  ['Race'] 71.0\n",
      "Match Percent =  95 %\n"
     ]
    }
   ],
   "source": [
    "match, comparelist = compare_joblist_years(df,years, index_vars = ['Race'], value_var =  'h_geocode')"
   ]
  },
  {
   "cell_type": "code",
   "execution_count": 21,
   "metadata": {},
   "outputs": [
    {
     "name": "stdout",
     "output_type": "stream",
     "text": [
      "Total jobs in 2014 82.0\n",
      "Total jobs in 2015 74.0\n",
      "Match on  ['Race', 'h_geocode_tractid'] 24.0\n",
      "Match Percent =  32 %\n"
     ]
    }
   ],
   "source": [
    "match, comparelist = compare_joblist_years(df,years, index_vars = ['Race','h_geocode_tractid'], value_var =  'h_geocode')"
   ]
  },
  {
   "cell_type": "code",
   "execution_count": 22,
   "metadata": {},
   "outputs": [
    {
     "name": "stdout",
     "output_type": "stream",
     "text": [
      "Total jobs in 2014 82.0\n",
      "Total jobs in 2015 74.0\n",
      "Match on  ['Race', 'h_geocode_countyid'] 58.0\n",
      "Match Percent =  78 %\n"
     ]
    }
   ],
   "source": [
    "match, comparelist = compare_joblist_years(df,years, index_vars = ['Race','h_geocode_countyid'], value_var =  'h_geocode')"
   ]
  },
  {
   "cell_type": "code",
   "execution_count": 23,
   "metadata": {},
   "outputs": [
    {
     "name": "stdout",
     "output_type": "stream",
     "text": [
      "Total jobs in 2014 82\n",
      "Total jobs in 2015 74\n",
      "Match on  ['Sex'] 74\n",
      "Match Percent =  100 %\n"
     ]
    }
   ],
   "source": [
    "match, comparelist = compare_joblist_years(df,years, index_vars = ['Sex'], value_var =  'h_geocode')"
   ]
  },
  {
   "cell_type": "code",
   "execution_count": 24,
   "metadata": {},
   "outputs": [
    {
     "name": "stdout",
     "output_type": "stream",
     "text": [
      "Total jobs in 2014 82.0\n",
      "Total jobs in 2015 74.0\n",
      "Match on  ['Sex', 'h_geocode_tractid'] 29.0\n",
      "Match Percent =  39 %\n"
     ]
    }
   ],
   "source": [
    "match, comparelist = compare_joblist_years(df,years, index_vars = ['Sex','h_geocode_tractid'], value_var =  'h_geocode')"
   ]
  },
  {
   "cell_type": "code",
   "execution_count": 25,
   "metadata": {},
   "outputs": [
    {
     "name": "stdout",
     "output_type": "stream",
     "text": [
      "Total jobs in 2014 82.0\n",
      "Total jobs in 2015 74.0\n",
      "Match on  ['Sex', 'Race', 'h_geocode_tractid'] 20.0\n",
      "Match Percent =  27 %\n"
     ]
    }
   ],
   "source": [
    "match, comparelist = compare_joblist_years(df,years, index_vars = ['Sex','Race','h_geocode_tractid'], value_var =  'h_geocode')"
   ]
  },
  {
   "cell_type": "code",
   "execution_count": 26,
   "metadata": {},
   "outputs": [
    {
     "name": "stdout",
     "output_type": "stream",
     "text": [
      "Total jobs in 2014 82.0\n",
      "Total jobs in 2015 74.0\n",
      "Match on  ['Sex', 'Race', 'Ethnicity', 'h_geocode_tractid'] 19.0\n",
      "Match Percent =  25 %\n"
     ]
    }
   ],
   "source": [
    "match, comparelist = compare_joblist_years(df,years, index_vars = ['Sex','Race','Ethnicity','h_geocode_tractid'],\n",
    "                                           value_var =  'h_geocode')"
   ]
  },
  {
   "cell_type": "code",
   "execution_count": 27,
   "metadata": {},
   "outputs": [
    {
     "name": "stdout",
     "output_type": "stream",
     "text": [
      "Total jobs in 2014 82.0\n",
      "Total jobs in 2015 74.0\n",
      "Match on  ['jobtype', 'Sex', 'Race', 'Ethnicity', 'h_geocode_tractid'] 19.0\n",
      "Match Percent =  25 %\n"
     ]
    }
   ],
   "source": [
    "match, comparelist = compare_joblist_years(df,years, index_vars = ['jobtype','Sex','Race','Ethnicity','h_geocode_tractid'],\n",
    "                                           value_var =  'h_geocode')"
   ]
  },
  {
   "cell_type": "code",
   "execution_count": 28,
   "metadata": {},
   "outputs": [
    {
     "name": "stdout",
     "output_type": "stream",
     "text": [
      "Total jobs in 2014 82.0\n",
      "Total jobs in 2015 74.0\n",
      "Match on  ['jobtype', 'IndustryCode', 'Sex', 'Race', 'Ethnicity', 'h_geocode_tractid'] 19.0\n",
      "Match Percent =  25 %\n"
     ]
    }
   ],
   "source": [
    "match, comparelist = compare_joblist_years(df,years, index_vars = ['jobtype','IndustryCode','Sex','Race','Ethnicity','h_geocode_tractid'],\n",
    "                                           value_var =  'h_geocode')"
   ]
  },
  {
   "cell_type": "code",
   "execution_count": 29,
   "metadata": {},
   "outputs": [
    {
     "name": "stdout",
     "output_type": "stream",
     "text": [
      "w_geocode nc\n",
      "{'tabblk2010': 'tabblk2010_w', 'blklatdd': 'blklatdd_w', 'blklondd': 'blklondd_w'}\n",
      "h_geocode co\n",
      "{'tabblk2010': 'tabblk2010_h', 'blklatdd': 'blklatdd_h', 'blklondd': 'blklondd_h'}\n",
      "h_geocode nc\n",
      "{'tabblk2010': 'tabblk2010_h', 'blklatdd': 'blklatdd_h', 'blklondd': 'blklondd_h'}\n",
      "h_geocode sc\n",
      "{'tabblk2010': 'tabblk2010_h', 'blklatdd': 'blklatdd_h', 'blklondd': 'blklondd_h'}\n",
      "w_geocode nc\n",
      "{'tabblk2010': 'tabblk2010_w', 'blklatdd': 'blklatdd_w', 'blklondd': 'blklondd_w'}\n",
      "h_geocode ky\n",
      "{'tabblk2010': 'tabblk2010_h', 'blklatdd': 'blklatdd_h', 'blklondd': 'blklondd_h'}\n",
      "h_geocode nc\n",
      "{'tabblk2010': 'tabblk2010_h', 'blklatdd': 'blklatdd_h', 'blklondd': 'blklondd_h'}\n"
     ]
    }
   ],
   "source": [
    "from pyincoredata_addons.lodesdatautil_20210815 import add_latlon\n",
    "from pyincoredata_addons.lodesdatautil_20210815 import add_distance\n",
    "\n",
    "for year in years:\n",
    "    df[year] = add_latlon(df[year])\n",
    "    df[year] = add_distance(df[year], 'blklatdd_w', 'blklatdd_h', 'blklondd_w', 'blklondd_h' )"
   ]
  },
  {
   "cell_type": "code",
   "execution_count": 30,
   "metadata": {},
   "outputs": [
    {
     "data": {
      "text/html": [
       "<div>\n",
       "<style scoped>\n",
       "    .dataframe tbody tr th:only-of-type {\n",
       "        vertical-align: middle;\n",
       "    }\n",
       "\n",
       "    .dataframe tbody tr th {\n",
       "        vertical-align: top;\n",
       "    }\n",
       "\n",
       "    .dataframe thead th {\n",
       "        text-align: right;\n",
       "    }\n",
       "</style>\n",
       "<table border=\"1\" class=\"dataframe\">\n",
       "  <thead>\n",
       "    <tr style=\"text-align: right;\">\n",
       "      <th></th>\n",
       "      <th>Unnamed: 0</th>\n",
       "      <th>w_geocode</th>\n",
       "      <th>h_geocode</th>\n",
       "      <th>jobidod</th>\n",
       "      <th>jobidod_counter</th>\n",
       "      <th>jobidod_total_rand</th>\n",
       "      <th>jobidwacracod_counter</th>\n",
       "      <th>jobidac</th>\n",
       "      <th>jobidac_counter</th>\n",
       "      <th>jobtype</th>\n",
       "      <th>...</th>\n",
       "      <th>w_geocode_stabbr</th>\n",
       "      <th>tabblk2010_w</th>\n",
       "      <th>blklatdd_w</th>\n",
       "      <th>blklondd_w</th>\n",
       "      <th>h_geocode_stfips</th>\n",
       "      <th>h_geocode_stabbr</th>\n",
       "      <th>tabblk2010_h</th>\n",
       "      <th>blklatdd_h</th>\n",
       "      <th>blklondd_h</th>\n",
       "      <th>od_distance</th>\n",
       "    </tr>\n",
       "  </thead>\n",
       "  <tbody>\n",
       "    <tr>\n",
       "      <th>0</th>\n",
       "      <td>1</td>\n",
       "      <td>371559612002006</td>\n",
       "      <td>370179503001059</td>\n",
       "      <td>jidodJT07213</td>\n",
       "      <td>1</td>\n",
       "      <td>0</td>\n",
       "      <td>0</td>\n",
       "      <td>jidodJT07213jobidac211512</td>\n",
       "      <td>1</td>\n",
       "      <td>JT07</td>\n",
       "      <td>...</td>\n",
       "      <td>nc</td>\n",
       "      <td>371559612002006</td>\n",
       "      <td>34.622429</td>\n",
       "      <td>-78.995762</td>\n",
       "      <td>37</td>\n",
       "      <td>nc</td>\n",
       "      <td>370179503001059</td>\n",
       "      <td>34.644261</td>\n",
       "      <td>-78.716620</td>\n",
       "      <td>25.654264</td>\n",
       "    </tr>\n",
       "    <tr>\n",
       "      <th>1</th>\n",
       "      <td>2</td>\n",
       "      <td>371559612002006</td>\n",
       "      <td>370190203042017</td>\n",
       "      <td>jidodJT07223</td>\n",
       "      <td>1</td>\n",
       "      <td>0</td>\n",
       "      <td>7</td>\n",
       "      <td>jidodJT07223jobidac311532</td>\n",
       "      <td>1</td>\n",
       "      <td>JT07</td>\n",
       "      <td>...</td>\n",
       "      <td>nc</td>\n",
       "      <td>371559612002006</td>\n",
       "      <td>34.622429</td>\n",
       "      <td>-78.995762</td>\n",
       "      <td>37</td>\n",
       "      <td>nc</td>\n",
       "      <td>370190203042017</td>\n",
       "      <td>33.953199</td>\n",
       "      <td>-78.086835</td>\n",
       "      <td>111.849522</td>\n",
       "    </tr>\n",
       "    <tr>\n",
       "      <th>2</th>\n",
       "      <td>3</td>\n",
       "      <td>371559612002006</td>\n",
       "      <td>370479302001019</td>\n",
       "      <td>jidodJT07333</td>\n",
       "      <td>1</td>\n",
       "      <td>0</td>\n",
       "      <td>3</td>\n",
       "      <td>jidodJT07333jobidac411532</td>\n",
       "      <td>1</td>\n",
       "      <td>JT07</td>\n",
       "      <td>...</td>\n",
       "      <td>nc</td>\n",
       "      <td>371559612002006</td>\n",
       "      <td>34.622429</td>\n",
       "      <td>-78.995762</td>\n",
       "      <td>37</td>\n",
       "      <td>nc</td>\n",
       "      <td>370479302001019</td>\n",
       "      <td>34.362963</td>\n",
       "      <td>-78.411764</td>\n",
       "      <td>60.802301</td>\n",
       "    </tr>\n",
       "    <tr>\n",
       "      <th>3</th>\n",
       "      <td>4</td>\n",
       "      <td>371559612002006</td>\n",
       "      <td>370479306003057</td>\n",
       "      <td>jidodJT07323</td>\n",
       "      <td>1</td>\n",
       "      <td>0</td>\n",
       "      <td>0</td>\n",
       "      <td>jidodJT07323jobidac211512</td>\n",
       "      <td>1</td>\n",
       "      <td>JT07</td>\n",
       "      <td>...</td>\n",
       "      <td>nc</td>\n",
       "      <td>371559612002006</td>\n",
       "      <td>34.622429</td>\n",
       "      <td>-78.995762</td>\n",
       "      <td>37</td>\n",
       "      <td>nc</td>\n",
       "      <td>370479306003057</td>\n",
       "      <td>34.284822</td>\n",
       "      <td>-78.899931</td>\n",
       "      <td>38.554777</td>\n",
       "    </tr>\n",
       "    <tr>\n",
       "      <th>4</th>\n",
       "      <td>5</td>\n",
       "      <td>371559612002006</td>\n",
       "      <td>370510030013000</td>\n",
       "      <td>jidodJT07233</td>\n",
       "      <td>1</td>\n",
       "      <td>0</td>\n",
       "      <td>37</td>\n",
       "      <td>jidodJT07233jobidac411512</td>\n",
       "      <td>1</td>\n",
       "      <td>JT07</td>\n",
       "      <td>...</td>\n",
       "      <td>nc</td>\n",
       "      <td>371559612002006</td>\n",
       "      <td>34.622429</td>\n",
       "      <td>-78.995762</td>\n",
       "      <td>37</td>\n",
       "      <td>nc</td>\n",
       "      <td>370510030013000</td>\n",
       "      <td>34.914973</td>\n",
       "      <td>-78.927020</td>\n",
       "      <td>33.129850</td>\n",
       "    </tr>\n",
       "  </tbody>\n",
       "</table>\n",
       "<p>5 rows × 68 columns</p>\n",
       "</div>"
      ],
      "text/plain": [
       "   Unnamed: 0        w_geocode        h_geocode       jobidod  \\\n",
       "0           1  371559612002006  370179503001059  jidodJT07213   \n",
       "1           2  371559612002006  370190203042017  jidodJT07223   \n",
       "2           3  371559612002006  370479302001019  jidodJT07333   \n",
       "3           4  371559612002006  370479306003057  jidodJT07323   \n",
       "4           5  371559612002006  370510030013000  jidodJT07233   \n",
       "\n",
       "   jobidod_counter  jobidod_total_rand  jobidwacracod_counter  \\\n",
       "0                1                   0                      0   \n",
       "1                1                   0                      7   \n",
       "2                1                   0                      3   \n",
       "3                1                   0                      0   \n",
       "4                1                   0                     37   \n",
       "\n",
       "                     jobidac  jobidac_counter jobtype  ...  w_geocode_stabbr  \\\n",
       "0  jidodJT07213jobidac211512                1    JT07  ...                nc   \n",
       "1  jidodJT07223jobidac311532                1    JT07  ...                nc   \n",
       "2  jidodJT07333jobidac411532                1    JT07  ...                nc   \n",
       "3  jidodJT07323jobidac211512                1    JT07  ...                nc   \n",
       "4  jidodJT07233jobidac411512                1    JT07  ...                nc   \n",
       "\n",
       "      tabblk2010_w  blklatdd_w  blklondd_w  h_geocode_stfips  \\\n",
       "0  371559612002006   34.622429  -78.995762                37   \n",
       "1  371559612002006   34.622429  -78.995762                37   \n",
       "2  371559612002006   34.622429  -78.995762                37   \n",
       "3  371559612002006   34.622429  -78.995762                37   \n",
       "4  371559612002006   34.622429  -78.995762                37   \n",
       "\n",
       "   h_geocode_stabbr     tabblk2010_h  blklatdd_h  blklondd_h  od_distance  \n",
       "0                nc  370179503001059   34.644261  -78.716620    25.654264  \n",
       "1                nc  370190203042017   33.953199  -78.086835   111.849522  \n",
       "2                nc  370479302001019   34.362963  -78.411764    60.802301  \n",
       "3                nc  370479306003057   34.284822  -78.899931    38.554777  \n",
       "4                nc  370510030013000   34.914973  -78.927020    33.129850  \n",
       "\n",
       "[5 rows x 68 columns]"
      ]
     },
     "execution_count": 30,
     "metadata": {},
     "output_type": "execute_result"
    }
   ],
   "source": [
    "df['2015'].head()"
   ]
  },
  {
   "cell_type": "code",
   "execution_count": 31,
   "metadata": {},
   "outputs": [
    {
     "data": {
      "text/html": [
       "<div>\n",
       "<style scoped>\n",
       "    .dataframe tbody tr th:only-of-type {\n",
       "        vertical-align: middle;\n",
       "    }\n",
       "\n",
       "    .dataframe tbody tr th {\n",
       "        vertical-align: top;\n",
       "    }\n",
       "\n",
       "    .dataframe thead th {\n",
       "        text-align: right;\n",
       "    }\n",
       "</style>\n",
       "<table border=\"1\" class=\"dataframe\">\n",
       "  <thead>\n",
       "    <tr style=\"text-align: right;\">\n",
       "      <th></th>\n",
       "      <th>Unnamed: 0</th>\n",
       "      <th>w_geocode</th>\n",
       "      <th>h_geocode</th>\n",
       "      <th>jobidod</th>\n",
       "      <th>jobidod_counter</th>\n",
       "      <th>jobidod_total_rand</th>\n",
       "      <th>jobidwacracod_counter</th>\n",
       "      <th>jobidac</th>\n",
       "      <th>jobidac_counter</th>\n",
       "      <th>jobtype</th>\n",
       "      <th>...</th>\n",
       "      <th>w_geocode_stabbr</th>\n",
       "      <th>tabblk2010_w</th>\n",
       "      <th>blklatdd_w</th>\n",
       "      <th>blklondd_w</th>\n",
       "      <th>h_geocode_stfips</th>\n",
       "      <th>h_geocode_stabbr</th>\n",
       "      <th>tabblk2010_h</th>\n",
       "      <th>blklatdd_h</th>\n",
       "      <th>blklondd_h</th>\n",
       "      <th>od_distance</th>\n",
       "    </tr>\n",
       "  </thead>\n",
       "  <tbody>\n",
       "    <tr>\n",
       "      <th>73</th>\n",
       "      <td>0</td>\n",
       "      <td>371559612002006</td>\n",
       "      <td>212231002003022</td>\n",
       "      <td>jidodJT07133</td>\n",
       "      <td>1</td>\n",
       "      <td>0</td>\n",
       "      <td>3</td>\n",
       "      <td>jidodJT07133jobidac011532</td>\n",
       "      <td>1</td>\n",
       "      <td>JT07</td>\n",
       "      <td>...</td>\n",
       "      <td>nc</td>\n",
       "      <td>371559612002006</td>\n",
       "      <td>34.622429</td>\n",
       "      <td>-78.995762</td>\n",
       "      <td>21</td>\n",
       "      <td>ky</td>\n",
       "      <td>212231002003022</td>\n",
       "      <td>38.51265</td>\n",
       "      <td>-85.271997</td>\n",
       "      <td>707.714296</td>\n",
       "    </tr>\n",
       "  </tbody>\n",
       "</table>\n",
       "<p>1 rows × 68 columns</p>\n",
       "</div>"
      ],
      "text/plain": [
       "    Unnamed: 0        w_geocode        h_geocode       jobidod  \\\n",
       "73           0  371559612002006  212231002003022  jidodJT07133   \n",
       "\n",
       "    jobidod_counter  jobidod_total_rand  jobidwacracod_counter  \\\n",
       "73                1                   0                      3   \n",
       "\n",
       "                      jobidac  jobidac_counter jobtype  ...  w_geocode_stabbr  \\\n",
       "73  jidodJT07133jobidac011532                1    JT07  ...                nc   \n",
       "\n",
       "       tabblk2010_w  blklatdd_w  blklondd_w  h_geocode_stfips  \\\n",
       "73  371559612002006   34.622429  -78.995762                21   \n",
       "\n",
       "    h_geocode_stabbr     tabblk2010_h  blklatdd_h  blklondd_h  od_distance  \n",
       "73                ky  212231002003022    38.51265  -85.271997   707.714296  \n",
       "\n",
       "[1 rows x 68 columns]"
      ]
     },
     "execution_count": 31,
     "metadata": {},
     "output_type": "execute_result"
    }
   ],
   "source": [
    "df['2015'].loc[df['2015']['h_geocode_stabbr'] != df['2015']['w_geocode_stabbr']]"
   ]
  },
  {
   "cell_type": "code",
   "execution_count": 32,
   "metadata": {},
   "outputs": [],
   "source": [
    "def add_coarse_geovar(df):\n",
    "    \"\"\"\n",
    "    LODES data coarsens the geocoding of the home block based on distance between origin and desination pairs\n",
    "    if distance is greater than the average use PUMA (County)\n",
    "    if distnace is greater than 500 miles use \n",
    "    \"\"\"\n",
    "    \n",
    "    col_list = [col for col in df]\n",
    "    # Check if dataframe has tract and county variables for home geocodes\n",
    "    if 'h_geocode_tractid' not in col_list:\n",
    "        df = add_tractid(df, 'h_geocode')\n",
    "    if 'h_geocode_countyid' not in col_list:\n",
    "        df = add_countyid(df, 'h_geocode')\n",
    "    \n",
    "    # Check if dataframe has od_distance\n",
    "    if 'od_distance' not in col_list:\n",
    "        if 'blklatdd_w' not in col_list:\n",
    "            df = add_latlon(df)\n",
    "        \n",
    "        df = add_distance(df, 'blklatdd_w', 'blklatdd_h', 'blklondd_w', 'blklondd_h' )\n",
    "    \n",
    "    mean_dist = df['od_distance'].mean()\n",
    "    print(\"The average commute distance for data is \",mean_dist)\n",
    "    # Add coarse_geovar\n",
    "    # All jobs are coarsened to tractid for home origin\n",
    "    df.loc[:,'h_geocode_coarse'] = df['h_geocode_tractid']\n",
    "    \n",
    "    # locate observations with longer than average commutes\n",
    "    # Coarse Geovar should be the PUMA with population of 100,000\n",
    "    df.loc[(df['od_distance'] > mean_dist), 'h_geocode_coarse'] = df['h_geocode_countyid']\n",
    "    \n",
    "    # Locate observations with commutes longer than 500 km\n",
    "    df.loc[(df['od_distance'] > 500), 'h_geocode_coarse'] = df['h_geocode_stfips']\n",
    "    \n",
    "    return df  "
   ]
  },
  {
   "cell_type": "code",
   "execution_count": 33,
   "metadata": {},
   "outputs": [
    {
     "name": "stdout",
     "output_type": "stream",
     "text": [
      "The average commute distance for data is  79.87614206426692\n",
      "The average commute distance for data is  48.40164774264854\n"
     ]
    }
   ],
   "source": [
    "for year in years:\n",
    "    df[year] = add_coarse_geovar(df[year])"
   ]
  },
  {
   "cell_type": "code",
   "execution_count": 34,
   "metadata": {},
   "outputs": [
    {
     "name": "stdout",
     "output_type": "stream",
     "text": [
      "Total jobs in 2014 82.0\n",
      "Total jobs in 2015 74.0\n",
      "Match on  ['jobtype', 'IndustryCode', 'Sex', 'Race', 'Ethnicity', 'h_geocode_coarse'] 19.0\n",
      "Match Percent =  25 %\n"
     ]
    }
   ],
   "source": [
    "match, comparelist = compare_joblist_years(df,years, index_vars = ['jobtype','IndustryCode','Sex','Race','Ethnicity','h_geocode_coarse'],\n",
    "                                           value_var =  'h_geocode')"
   ]
  },
  {
   "cell_type": "code",
   "execution_count": 35,
   "metadata": {},
   "outputs": [
    {
     "data": {
      "text/html": [
       "<div>\n",
       "<style scoped>\n",
       "    .dataframe tbody tr th:only-of-type {\n",
       "        vertical-align: middle;\n",
       "    }\n",
       "\n",
       "    .dataframe tbody tr th {\n",
       "        vertical-align: top;\n",
       "    }\n",
       "\n",
       "    .dataframe thead th {\n",
       "        text-align: right;\n",
       "    }\n",
       "</style>\n",
       "<table border=\"1\" class=\"dataframe\">\n",
       "  <thead>\n",
       "    <tr style=\"text-align: right;\">\n",
       "      <th></th>\n",
       "      <th>Unnamed: 0</th>\n",
       "      <th>w_geocode</th>\n",
       "      <th>h_geocode</th>\n",
       "      <th>jobidod</th>\n",
       "      <th>jobidod_counter</th>\n",
       "      <th>jobidod_total_rand</th>\n",
       "      <th>jobidwacracod_counter</th>\n",
       "      <th>jobidac</th>\n",
       "      <th>jobidac_counter</th>\n",
       "      <th>jobtype</th>\n",
       "      <th>...</th>\n",
       "      <th>tabblk2010_w</th>\n",
       "      <th>blklatdd_w</th>\n",
       "      <th>blklondd_w</th>\n",
       "      <th>h_geocode_stfips</th>\n",
       "      <th>h_geocode_stabbr</th>\n",
       "      <th>tabblk2010_h</th>\n",
       "      <th>blklatdd_h</th>\n",
       "      <th>blklondd_h</th>\n",
       "      <th>od_distance</th>\n",
       "      <th>h_geocode_coarse</th>\n",
       "    </tr>\n",
       "  </thead>\n",
       "  <tbody>\n",
       "    <tr>\n",
       "      <th>0</th>\n",
       "      <td>1</td>\n",
       "      <td>371559612002006</td>\n",
       "      <td>370179503001059</td>\n",
       "      <td>jidodJT07213</td>\n",
       "      <td>1</td>\n",
       "      <td>0</td>\n",
       "      <td>0</td>\n",
       "      <td>jidodJT07213jobidac211512</td>\n",
       "      <td>1</td>\n",
       "      <td>JT07</td>\n",
       "      <td>...</td>\n",
       "      <td>371559612002006</td>\n",
       "      <td>34.622429</td>\n",
       "      <td>-78.995762</td>\n",
       "      <td>37</td>\n",
       "      <td>nc</td>\n",
       "      <td>370179503001059</td>\n",
       "      <td>34.644261</td>\n",
       "      <td>-78.716620</td>\n",
       "      <td>25.654264</td>\n",
       "      <td>37017950300</td>\n",
       "    </tr>\n",
       "    <tr>\n",
       "      <th>1</th>\n",
       "      <td>2</td>\n",
       "      <td>371559612002006</td>\n",
       "      <td>370190203042017</td>\n",
       "      <td>jidodJT07223</td>\n",
       "      <td>1</td>\n",
       "      <td>0</td>\n",
       "      <td>7</td>\n",
       "      <td>jidodJT07223jobidac311532</td>\n",
       "      <td>1</td>\n",
       "      <td>JT07</td>\n",
       "      <td>...</td>\n",
       "      <td>371559612002006</td>\n",
       "      <td>34.622429</td>\n",
       "      <td>-78.995762</td>\n",
       "      <td>37</td>\n",
       "      <td>nc</td>\n",
       "      <td>370190203042017</td>\n",
       "      <td>33.953199</td>\n",
       "      <td>-78.086835</td>\n",
       "      <td>111.849522</td>\n",
       "      <td>37019</td>\n",
       "    </tr>\n",
       "    <tr>\n",
       "      <th>2</th>\n",
       "      <td>3</td>\n",
       "      <td>371559612002006</td>\n",
       "      <td>370479302001019</td>\n",
       "      <td>jidodJT07333</td>\n",
       "      <td>1</td>\n",
       "      <td>0</td>\n",
       "      <td>3</td>\n",
       "      <td>jidodJT07333jobidac411532</td>\n",
       "      <td>1</td>\n",
       "      <td>JT07</td>\n",
       "      <td>...</td>\n",
       "      <td>371559612002006</td>\n",
       "      <td>34.622429</td>\n",
       "      <td>-78.995762</td>\n",
       "      <td>37</td>\n",
       "      <td>nc</td>\n",
       "      <td>370479302001019</td>\n",
       "      <td>34.362963</td>\n",
       "      <td>-78.411764</td>\n",
       "      <td>60.802301</td>\n",
       "      <td>37047</td>\n",
       "    </tr>\n",
       "    <tr>\n",
       "      <th>3</th>\n",
       "      <td>4</td>\n",
       "      <td>371559612002006</td>\n",
       "      <td>370479306003057</td>\n",
       "      <td>jidodJT07323</td>\n",
       "      <td>1</td>\n",
       "      <td>0</td>\n",
       "      <td>0</td>\n",
       "      <td>jidodJT07323jobidac211512</td>\n",
       "      <td>1</td>\n",
       "      <td>JT07</td>\n",
       "      <td>...</td>\n",
       "      <td>371559612002006</td>\n",
       "      <td>34.622429</td>\n",
       "      <td>-78.995762</td>\n",
       "      <td>37</td>\n",
       "      <td>nc</td>\n",
       "      <td>370479306003057</td>\n",
       "      <td>34.284822</td>\n",
       "      <td>-78.899931</td>\n",
       "      <td>38.554777</td>\n",
       "      <td>37047930600</td>\n",
       "    </tr>\n",
       "    <tr>\n",
       "      <th>4</th>\n",
       "      <td>5</td>\n",
       "      <td>371559612002006</td>\n",
       "      <td>370510030013000</td>\n",
       "      <td>jidodJT07233</td>\n",
       "      <td>1</td>\n",
       "      <td>0</td>\n",
       "      <td>37</td>\n",
       "      <td>jidodJT07233jobidac411512</td>\n",
       "      <td>1</td>\n",
       "      <td>JT07</td>\n",
       "      <td>...</td>\n",
       "      <td>371559612002006</td>\n",
       "      <td>34.622429</td>\n",
       "      <td>-78.995762</td>\n",
       "      <td>37</td>\n",
       "      <td>nc</td>\n",
       "      <td>370510030013000</td>\n",
       "      <td>34.914973</td>\n",
       "      <td>-78.927020</td>\n",
       "      <td>33.129850</td>\n",
       "      <td>37051003001</td>\n",
       "    </tr>\n",
       "  </tbody>\n",
       "</table>\n",
       "<p>5 rows × 69 columns</p>\n",
       "</div>"
      ],
      "text/plain": [
       "   Unnamed: 0        w_geocode        h_geocode       jobidod  \\\n",
       "0           1  371559612002006  370179503001059  jidodJT07213   \n",
       "1           2  371559612002006  370190203042017  jidodJT07223   \n",
       "2           3  371559612002006  370479302001019  jidodJT07333   \n",
       "3           4  371559612002006  370479306003057  jidodJT07323   \n",
       "4           5  371559612002006  370510030013000  jidodJT07233   \n",
       "\n",
       "   jobidod_counter  jobidod_total_rand  jobidwacracod_counter  \\\n",
       "0                1                   0                      0   \n",
       "1                1                   0                      7   \n",
       "2                1                   0                      3   \n",
       "3                1                   0                      0   \n",
       "4                1                   0                     37   \n",
       "\n",
       "                     jobidac  jobidac_counter jobtype  ...     tabblk2010_w  \\\n",
       "0  jidodJT07213jobidac211512                1    JT07  ...  371559612002006   \n",
       "1  jidodJT07223jobidac311532                1    JT07  ...  371559612002006   \n",
       "2  jidodJT07333jobidac411532                1    JT07  ...  371559612002006   \n",
       "3  jidodJT07323jobidac211512                1    JT07  ...  371559612002006   \n",
       "4  jidodJT07233jobidac411512                1    JT07  ...  371559612002006   \n",
       "\n",
       "   blklatdd_w  blklondd_w  h_geocode_stfips  h_geocode_stabbr  \\\n",
       "0   34.622429  -78.995762                37                nc   \n",
       "1   34.622429  -78.995762                37                nc   \n",
       "2   34.622429  -78.995762                37                nc   \n",
       "3   34.622429  -78.995762                37                nc   \n",
       "4   34.622429  -78.995762                37                nc   \n",
       "\n",
       "      tabblk2010_h  blklatdd_h  blklondd_h  od_distance  h_geocode_coarse  \n",
       "0  370179503001059   34.644261  -78.716620    25.654264       37017950300  \n",
       "1  370190203042017   33.953199  -78.086835   111.849522             37019  \n",
       "2  370479302001019   34.362963  -78.411764    60.802301             37047  \n",
       "3  370479306003057   34.284822  -78.899931    38.554777       37047930600  \n",
       "4  370510030013000   34.914973  -78.927020    33.129850       37051003001  \n",
       "\n",
       "[5 rows x 69 columns]"
      ]
     },
     "execution_count": 35,
     "metadata": {},
     "output_type": "execute_result"
    }
   ],
   "source": [
    "df['2015'].head()"
   ]
  },
  {
   "cell_type": "markdown",
   "metadata": {},
   "source": [
    "### Save final job list and mcmc results table as csv"
   ]
  },
  {
   "cell_type": "code",
   "execution_count": 36,
   "metadata": {},
   "outputs": [],
   "source": [
    "for year in years:\n",
    "    savefile = sys.path[0]+\"/\"+programname+\"/\"+programname+\"_\"+year+\".csv\"\n",
    "    df[year].to_csv(savefile)"
   ]
  },
  {
   "cell_type": "code",
   "execution_count": null,
   "metadata": {},
   "outputs": [],
   "source": []
  }
 ],
 "metadata": {
  "colab": {
   "name": "IN-CORE_1dv1_Lumberton_CleanLODESdata_2021-05-06.ipynb",
   "provenance": []
  },
  "kernelspec": {
   "display_name": "Python 3 (ipykernel)",
   "language": "python",
   "name": "python3"
  },
  "language_info": {
   "codemirror_mode": {
    "name": "ipython",
    "version": 3
   },
   "file_extension": ".py",
   "mimetype": "text/x-python",
   "name": "python",
   "nbconvert_exporter": "python",
   "pygments_lexer": "ipython3",
   "version": "3.7.10"
  }
 },
 "nbformat": 4,
 "nbformat_minor": 1
}
