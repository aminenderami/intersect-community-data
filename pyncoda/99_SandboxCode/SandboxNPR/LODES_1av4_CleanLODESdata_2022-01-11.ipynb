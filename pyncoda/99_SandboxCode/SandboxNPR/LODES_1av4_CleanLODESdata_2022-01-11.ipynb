{
 "cells": [
  {
   "cell_type": "markdown",
   "metadata": {
    "id": "nDetVnGnoHR-"
   },
   "source": [
    "# Obtain and Clean LODES Data\n",
    "\n",
    "> The LEHD Origin-Destination Employment Statistics (LODES) datasets are released both as\n",
    "part of the OnTheMap application and in raw form as a set of comma separated variable (CSV)\n",
    "text files. This document describes the structure of those raw files and provides basic information\n",
    "for users who want to perform analytical work on the data outside of the OnTheMap application.\" (U.S. Census, 2021)\n",
    "\n",
    "U.S. Census Bureau. (2021). LEHD Origin-Destination Employment Statistics Data (2002-2018) [computer file]. Washington, DC: U.S. Census Bureau, Longitudinal-Employer Household Dynamics Program [distributor], accessed on {CURRENT DATE} at https://lehd.ces.census.gov/data/#lodes. LODES 7.5 [version]\n",
    "\n",
    "The LODES Data provides emplyoment characterstics and origin-destination data\n",
    "    \n",
    "    1. Read in LODES data\n",
    "    2. Select Work Area Charactersitics in Study Area\n",
    "    3. Select Origin-Destination data in Study Area"
   ]
  },
  {
   "cell_type": "markdown",
   "metadata": {},
   "source": [
    "## Description of Program\n",
    "- program:    LODES_1av4_CleanLODESdata\n",
    "- task:       Obtain and read in LODES data\n",
    "- See github commits for description of program updates\n",
    "- Current Version:    2022-01-07\n",
    "- Version 4 description - try to run with fewer charactersitics and allow for lower fitness\n",
    "-     Need to get a result in less time\n",
    "- project:    Interdependent Networked Community Resilience Modeling Environment (IN-CORE) Subtask 5.2 - Social Institutions\n",
    "- funding:\t  NIST Financial Assistance Award Numbers: 70NANB15H044 and 70NANB20H008 \n",
    "- author:     Nathanael Rosenheim\n",
    "\n",
    "- Suggested Citation:\n",
    "Rosenheim, N. (2021) “Obtain, Clean, and LODES Jobs Data\". \n",
    "Archived on Github and ICPSR."
   ]
  },
  {
   "cell_type": "code",
   "execution_count": null,
   "metadata": {
    "id": "ub0JUKWHoHSE"
   },
   "outputs": [],
   "source": [
    "%matplotlib inline\n",
    "\n",
    "import numpy as np\n",
    "import pandas as pd\n",
    "import os # For saving output to path"
   ]
  },
  {
   "cell_type": "code",
   "execution_count": null,
   "metadata": {
    "id": "67UI6QhmoHSF",
    "outputId": "79dfbfb3-86a1-4756-dbde-f37a87ac3fe6"
   },
   "outputs": [],
   "source": [
    "# Display versions being used - important information for replication\n",
    "import sys\n",
    "print(\"Python Version     \", sys.version)\n",
    "print(\"numpy version:     \", np.__version__)\n",
    "print(\"pandas version:    \", pd.__version__)"
   ]
  },
  {
   "cell_type": "code",
   "execution_count": null,
   "metadata": {},
   "outputs": [],
   "source": [
    "os.getcwd()"
   ]
  },
  {
   "cell_type": "code",
   "execution_count": null,
   "metadata": {
    "id": "jSI_YU4foHSG"
   },
   "outputs": [],
   "source": [
    "# Store Program Name for output files to have the same name\n",
    "programname = \"LODES_1av4_CleanLODESdata\"\n",
    "# Save Outputfolder - due to long folder name paths output saved to folder with shorter name\n",
    "# files from this program will be saved with the program name - this helps to follow the overall workflow\n",
    "outputfolder = \"lodes_workflow_outputv4\"\n",
    "# Make directory to save output\n",
    "if not os.path.exists(outputfolder):\n",
    "    os.mkdir(outputfolder)"
   ]
  },
  {
   "cell_type": "markdown",
   "metadata": {},
   "source": [
    "### Setup notebook enviroment to access Cloned Github Package\n",
    "This notebook uses packages that are in developement. The packages are available at:\n",
    "\n",
    "https://github.com/npr99/Labor_Market_Allocation\n",
    "\n",
    "To replicate this notebook Clone the Github Package to a folder that is a sibling of this notebook.\n",
    "\n",
    "To access the sibling package you will need to append the parent directory ('..') to the system path list."
   ]
  },
  {
   "cell_type": "code",
   "execution_count": null,
   "metadata": {},
   "outputs": [],
   "source": [
    "# to access new package that is in a sibling folder - the system path list needs to inlcude the parent folder (..)\n",
    "# append the path of the directory that includes the github repository.\n",
    "sys.path.append(\"..\\\\github_com\\\\npr99\\\\Labor_Market_Allocation\")"
   ]
  },
  {
   "cell_type": "markdown",
   "metadata": {},
   "source": [
    "# Setup access to IN-CORE\n",
    "https://incore.ncsa.illinois.edu/"
   ]
  },
  {
   "cell_type": "code",
   "execution_count": null,
   "metadata": {},
   "outputs": [],
   "source": [
    "#from pyincore import IncoreClient, Dataset, FragilityService, MappingSet, DataService\n",
    "#from pyincore_viz.geoutil import GeoUtil as viz"
   ]
  },
  {
   "cell_type": "markdown",
   "metadata": {},
   "source": [
    "### IN-CORE addons\n",
    "This program uses coded that is being developed as potential add ons to pyincore. These functions are in a folder called pyincore_addons - this folder is located in the same directory as this notebook.\n",
    "The add on functions are organized to mirror the folder sturcture of https://github.com/IN-CORE/pyincore\n",
    "\n",
    "Each add on function attempts to follow the structure of existing pyincore functions and includes some help information."
   ]
  },
  {
   "cell_type": "code",
   "execution_count": null,
   "metadata": {
    "pycharm": {
     "is_executing": true
    }
   },
   "outputs": [],
   "source": [
    "# To reload submodules need to use this magic command to set autoreload on\n",
    "%load_ext autoreload\n",
    "%autoreload 2\n",
    "# open, read, and execute python program with reusable commands\n",
    "# function that loops through lodes data structure\n",
    "import pyincoredata_addons.SourceData.lehd_ces_census_gov.lodes_fullloop as lodes\n",
    "import pyincoredata_addons.SourceData.lehd_ces_census_gov.lodes_mcmcsa_loops as mcmc\n",
    "import pyincoredata_addons.SourceData.lehd_ces_census_gov.lodes_mcmcsa_util as mcmc_util\n",
    "import pyincoredata_addons.SourceData.lehd_ces_census_gov.lodes_datautil as data_util\n",
    "\n",
    "\n",
    "# since the geoutil is under construction it might need to be reloaded\n",
    "#from importlib import reload \n",
    "#lodes = reload(lodes) # with auto reload on this command is not needed\n",
    "\n",
    "# Print list of add on functions\n",
    "##from inspect import getmembers, isfunction\n",
    "##print(getmembers(lodes,isfunction))\n",
    "##print(getmembers(mcmc,isfunction))"
   ]
  },
  {
   "cell_type": "markdown",
   "metadata": {},
   "source": [
    "## Read In LODES data for a County"
   ]
  },
  {
   "cell_type": "code",
   "execution_count": null,
   "metadata": {
    "pycharm": {
     "is_executing": true
    }
   },
   "outputs": [],
   "source": [
    "# Setup list and dictionaries to loop through\n",
    "# countylist can only have 1 county at this time\n",
    "countylist = {'37155' : 'Robeson County, NC'}\n",
    "# note 2010 is the earliest year with Federal Jobtypes \n",
    "# to include years before 2010 requires modifiying the program\n",
    "#years = ['2010','2011','2012','2013','2014','2015','2016','2017','2018']\n",
    "#years = ['2012','2013','2014','2015','2016']\n",
    "years = ['2010']"
   ]
  },
  {
   "cell_type": "code",
   "execution_count": null,
   "metadata": {
    "pycharm": {
     "is_executing": true
    }
   },
   "outputs": [],
   "source": [
    "stacked_df = lodes.obtain_lodes_county_loop(countylist = countylist, \n",
    "                        years = years,\n",
    "                        outputfoldername = outputfolder)"
   ]
  },
  {
   "cell_type": "code",
   "execution_count": null,
   "metadata": {
    "pycharm": {
     "is_executing": true
    }
   },
   "outputs": [],
   "source": [
    "lodes.explore_jobcounts(stacked_df)"
   ]
  },
  {
   "cell_type": "code",
   "execution_count": null,
   "metadata": {
    "pycharm": {
     "is_executing": true
    }
   },
   "outputs": [],
   "source": [
    "focus_jobtype = 'JT11'\n",
    "seed = 133234\n",
    "\n",
    "stacked_jobtype_df = mcmc.split_stack_df_byjobtype(stacked_df)\n",
    "for county in countylist:\n",
    "    countyfips = county\n",
    "    joblist_df, mcmcsa_filepath = \\\n",
    "        mcmc.outer_mcmc_sa_input(\"2010\", years,\n",
    "                    focus_jobtype,\n",
    "                    stacked_jobtype_df,\n",
    "                    outputfolder,\n",
    "                    countyfips,\n",
    "                    seed\n",
    "                    )"
   ]
  },
  {
   "cell_type": "code",
   "execution_count": null,
   "metadata": {
    "pycharm": {
     "is_executing": true
    }
   },
   "outputs": [],
   "source": [
    "    \n",
    "# ## Run Markov-Chain-Monte Carlo Simmulated Anneal\n",
    "\"\"\"\n",
    "The MCMC SA process will take the combined WAC-OD-RAC joblist and \n",
    "futher reduce the number of possible jobs. \n",
    "This process will randomly select jobs and compare the job \n",
    "characteristics to the known WAC file job characteristics.\n",
    "\"\"\"\n",
    "\n",
    "random_accept_threshold = 0.1\n",
    "# How much to reduce error by\n",
    "start_reduction_threshold = 0.6\n",
    "max_reduction_threshold = 0.9\n",
    "seed = 133234\n",
    "\n",
    "joblist_mcmcsa_df = mcmc.outer_mcmc_sa_loop(\n",
    "                years = years,\n",
    "                focus_jobtype = focus_jobtype,\n",
    "                stacked_jobtype_df = stacked_jobtype_df,\n",
    "                joblist_df = joblist_df,\n",
    "                seed = seed,\n",
    "                random_accept_threshold = random_accept_threshold,\n",
    "                mcmcsa_filepath = mcmcsa_filepath,\n",
    "                start_reduction_threshold = start_reduction_threshold,\n",
    "                num_procs=8\n",
    "                )"
   ]
  },
  {
   "cell_type": "code",
   "execution_count": null,
   "metadata": {
    "pycharm": {
     "is_executing": true
    }
   },
   "outputs": [],
   "source": [
    "compare_C000, total_fitness, combined_fitness = \\\n",
    "    mcmc.compare_expected_possible(joblist_mcmcsa_df, stacked_jobtype_df)"
   ]
  },
  {
   "cell_type": "code",
   "execution_count": null,
   "metadata": {
    "pycharm": {
     "is_executing": true
    }
   },
   "outputs": [],
   "source": [
    "compare_C000"
   ]
  },
  {
   "cell_type": "code",
   "execution_count": null,
   "metadata": {
    "pycharm": {
     "is_executing": true
    }
   },
   "outputs": [],
   "source": [
    "total_fitness"
   ]
  },
  {
   "cell_type": "code",
   "execution_count": null,
   "metadata": {
    "pycharm": {
     "is_executing": true
    }
   },
   "outputs": [],
   "source": [
    "combined_fitness"
   ]
  },
  {
   "cell_type": "code",
   "execution_count": null,
   "metadata": {
    "pycharm": {
     "is_executing": true
    }
   },
   "outputs": [],
   "source": []
  }
 ],
 "metadata": {
  "colab": {
   "name": "IN-CORE_1dv1_Lumberton_CleanLODESdata_2021-05-06.ipynb",
   "provenance": []
  },
  "interpreter": {
   "hash": "5c58ce784293a07115a9dfc7f62fce3bb2b505f44554599caa745606e0faef66"
  },
  "kernelspec": {
   "display_name": "Python 3 (ipykernel)",
   "language": "python",
   "name": "python3"
  },
  "language_info": {
   "codemirror_mode": {
    "name": "ipython",
    "version": 3
   },
   "file_extension": ".py",
   "mimetype": "text/x-python",
   "name": "python",
   "nbconvert_exporter": "python",
   "pygments_lexer": "ipython3",
   "version": "3.7.9"
  }
 },
 "nbformat": 4,
 "nbformat_minor": 1
}
